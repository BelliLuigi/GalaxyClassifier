{
 "cells": [
  {
   "cell_type": "code",
   "execution_count": 19,
   "id": "e350e2ce",
   "metadata": {},
   "outputs": [],
   "source": [
    "import pandas as pd\n",
    "import numpy as np\n",
    "from numpy import argmax"
   ]
  },
  {
   "cell_type": "code",
   "execution_count": 20,
   "id": "53490da3",
   "metadata": {},
   "outputs": [],
   "source": [
    "path = '../data/training/training_solutions_rev1.csv' #path è universale\n",
    "dataframe = pd.read_csv(path, sep=',', index_col=False) \n",
    "df = dataframe.sample(frac=0.05, random_state=1) "
   ]
  },
  {
   "cell_type": "code",
   "execution_count": 21,
   "id": "b4900f20",
   "metadata": {},
   "outputs": [
    {
     "data": {
      "text/plain": [
       "40402    fdisk_eoff_nobar_spiral_medium_?arm_b2_other_\n",
       "35159                                 fdisk_eon_bnone_\n",
       "2510                                   smooth_between_\n",
       "11313           fdisk_eoff_nobar_spiral_tight_2arm_b2_\n",
       "60007            fdisk_eoff_nobar_spiral_tight_3arm_b_\n",
       "                             ...                      \n",
       "29710                         fdisk_eoff_bar_noarm_b2_\n",
       "30995                    fdisk_eoff_bar_noarm_b2_ring_\n",
       "39359                                    smooth_round_\n",
       "43469                        fdisk_eoff_nobar_noarm_b_\n",
       "385              fdisk_eoff_bar_spiral_medium_2arm_b2_\n",
       "Length: 3079, dtype: object"
      ]
     },
     "execution_count": 21,
     "metadata": {},
     "output_type": "execute_result"
    }
   ],
   "source": [
    "\n",
    "def function(row):\n",
    "    id = row[0]\n",
    "    class1_3 = row[1:4]\n",
    "    class2_2 = row[4:6]\n",
    "    class3_2 = row[6:8]\n",
    "    class4_2 = row[8:10]\n",
    "    class5_4 = row[10:14]\n",
    "    class6_2 = row[14:16]\n",
    "    class7_3 = row[16:19]\n",
    "    class8_7 = row[19:26]\n",
    "    class9_3 = row[26:29]\n",
    "    class10_3 = row[29:32]\n",
    "    class11_6 = row[32:38]\n",
    "    string = ''\n",
    "    if argmax(class1_3) == 0:\n",
    "        string += 'smooth_' #smooth\n",
    "        if argmax(class7_3) == 0:\n",
    "            string += 'round_'\n",
    "        elif argmax(class7_3) == 1:\n",
    "            string += 'between_'\n",
    "        else:\n",
    "            string += 'cigar_'\n",
    "        \n",
    "    elif argmax(class1_3) == 1:\n",
    "        string += 'fdisk_' #feature or disk\n",
    "        if argmax(class2_2) == 0:\n",
    "            string += 'eon_' #edge on\n",
    "            if argmax(class9_3) == 0:\n",
    "                string += 'bround_' #round bulge\n",
    "            elif argmax(class9_3) == 1: \n",
    "                string += 'bbox_' #boxy bulge\n",
    "            else:\n",
    "                string += 'bnone_' # no bulge\n",
    "        else:\n",
    "            string += 'eoff_' #edge off\n",
    "            if argmax(class3_2) == 0:\n",
    "                string += 'bar_' #bar\n",
    "            else:\n",
    "                string += 'nobar_' # no visible bar\n",
    "            \n",
    "            if argmax(class4_2) == 0: #spiral arm pattern\n",
    "                string += 'spiral_'\n",
    "                if argmax(class10_3) == 0:\n",
    "                    string += 'tight_' #tightly wound arms\n",
    "                elif argmax(class10_3) == 1:\n",
    "                    string += 'medium_'\n",
    "                else:\n",
    "                    string += 'loose_'\n",
    "\n",
    "                if argmax(class11_6) == 0: #1 arm\n",
    "                    string += '1arm_'\n",
    "                elif argmax(class11_6) == 1: #2 arms\n",
    "                    string += '2arm_'\n",
    "                elif argmax(class11_6) == 2: #3 arms\n",
    "                    string += '3arm_'\n",
    "                elif argmax(class11_6) == 3: #4 arms\n",
    "                    string += '4arm_'\n",
    "                elif argmax(class11_6) == 4: #4+ arms \n",
    "                    string += '4+arm_'\n",
    "                else: #cant tell\n",
    "                    string += '?arm_'\n",
    "            else:\n",
    "                string += 'noarm_'\n",
    "            \n",
    "            if argmax(class5_4) == 0:# no bulge\n",
    "                string += 'nob_'\n",
    "            elif argmax(class5_4) == 1: #just noticeable bulge\n",
    "                string += 'b_'\n",
    "            elif argmax(class5_4) == 2: #obvious bulge\n",
    "                string += 'b2_'\n",
    "            else: #dominant bulge\n",
    "                string += 'b3_'\n",
    "\n",
    "        if argmax(class6_2) == 0: #anything odd\n",
    "            if argmax(class8_7) == 0:\n",
    "                string += 'ring_'\n",
    "            elif argmax(class8_7) == 1:\n",
    "                string += 'lensArc_'\n",
    "            elif argmax(class8_7) == 2:\n",
    "                string += 'disturbed_'\n",
    "            elif argmax(class8_7) == 3:\n",
    "                string += 'Irr_' \n",
    "            elif argmax(class8_7) == 4:\n",
    "                string += 'other_'\n",
    "            elif argmax(class8_7) == 5:\n",
    "                string += 'merger_'\n",
    "            else:\n",
    "                string += 'dust_'\n",
    "\n",
    "    else:\n",
    "        string += 'A' #star or artifact\n",
    "    return string\n",
    "\n",
    "                \n",
    "        \n",
    "a =df.apply(function, axis=1, raw=True, result_type='expand') ## output is a Series\n",
    "a"
   ]
  },
  {
   "cell_type": "code",
   "execution_count": 35,
   "id": "490ec28b",
   "metadata": {},
   "outputs": [],
   "source": [
    "df = pd.concat([df.iloc[:,0],a], axis=1)"
   ]
  },
  {
   "cell_type": "code",
   "execution_count": 12,
   "id": "6aa512c1",
   "metadata": {},
   "outputs": [
    {
     "name": "stdout",
     "output_type": "stream",
     "text": [
      "[1 2 3 4]\n",
      "[5 6]\n"
     ]
    }
   ],
   "source": [
    "a = np.arange(1,10,1)\n",
    "print(a[0:4])\n",
    "print(a[4:6])"
   ]
  },
  {
   "cell_type": "code",
   "execution_count": null,
   "id": "5f6a5ab6",
   "metadata": {},
   "outputs": [],
   "source": []
  }
 ],
 "metadata": {
  "kernelspec": {
   "display_name": "galzoo",
   "language": "python",
   "name": "python3"
  },
  "language_info": {
   "codemirror_mode": {
    "name": "ipython",
    "version": 3
   },
   "file_extension": ".py",
   "mimetype": "text/x-python",
   "name": "python",
   "nbconvert_exporter": "python",
   "pygments_lexer": "ipython3",
   "version": "3.12.3"
  }
 },
 "nbformat": 4,
 "nbformat_minor": 5
}
